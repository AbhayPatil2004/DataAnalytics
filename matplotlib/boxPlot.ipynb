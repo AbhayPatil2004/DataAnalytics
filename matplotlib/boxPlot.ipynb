{
 "cells": [
  {
   "cell_type": "code",
   "execution_count": null,
   "id": "6a6346d9",
   "metadata": {},
   "outputs": [],
   "source": [
    "import matplotlib.pyplot as plt\n",
    "\n",
    "l = [ 25 , 45 , 45 ,78 , 98 , 54 , 75 , 63 , 45 , 64 ]\n",
    "\n",
    "plt.boxplot(l)\n",
    "plt.show()\n"
   ]
  }
 ],
 "metadata": {
  "language_info": {
   "name": "python"
  }
 },
 "nbformat": 4,
 "nbformat_minor": 5
}
