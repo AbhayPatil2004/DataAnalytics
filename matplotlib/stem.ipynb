{
 "cells": [
  {
   "cell_type": "code",
   "execution_count": null,
   "id": "fd5d64dd",
   "metadata": {},
   "outputs": [],
   "source": [
    "import matplotlib.pyplot as plt \n",
    "\n",
    "a = [ 10 , 20 , 45 , 78 , 89 , 65 , 45 , 21 , 54 , 32 , 45 ]\n",
    "\n",
    "plt.stem(a)"
   ]
  }
 ],
 "metadata": {
  "language_info": {
   "name": "python"
  }
 },
 "nbformat": 4,
 "nbformat_minor": 5
}
