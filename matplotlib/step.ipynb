{
 "cells": [
  {
   "cell_type": "code",
   "execution_count": null,
   "id": "a24a5737",
   "metadata": {},
   "outputs": [],
   "source": [
    "import matplotlib.pyplot as plt \n",
    "\n",
    "x = [ \"day1\" , \"day2\" , \"day3\" , \"day4\" , \"day5\"]\n",
    "y = [ 10 , 20 , 40 , 30 , 12 ]\n",
    "\n",
    "plt.step(x,y)\n",
    "plt.show()"
   ]
  }
 ],
 "metadata": {
  "language_info": {
   "name": "python"
  }
 },
 "nbformat": 4,
 "nbformat_minor": 5
}
