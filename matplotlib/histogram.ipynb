{
 "cells": [
  {
   "cell_type": "code",
   "execution_count": 5,
   "id": "d58bbb2b",
   "metadata": {},
   "outputs": [
    {
     "data": {
      "image/png": "[encoded data removed]",
      "text/plain": [
       "<Figure size 640x480 with 1 Axes>"
      ]
     },
     "metadata": {},
     "output_type": "display_data"
    }
   ],
   "source": [
    "import matplotlib.pyplot as plt \n",
    "\n",
    "x = [30, 40, 50, 60, 70, 81, 45, 12, 23, 45]\n",
    "plt.hist(x, bins=10, edgecolor=\"black\", color=\"pink\")  # corrected \"c\" to \"color\"\n",
    "plt.show()\n"
   ]
  },
  {
   "cell_type": "code",
   "execution_count": 9,
   "id": "6d5cd178",
   "metadata": {},
   "outputs": [
    {
     "name": "stdout",
     "output_type": "stream",
     "text": [
      "   Employee ID               Name   Department Joining Date  Salary  \\\n",
      "0        E1000       Norma Fisher    Marketing   2017-02-10  119651   \n",
      "1        E1001     Jorge Sullivan    Marketing   2017-10-19   73279   \n",
      "2        E1002    Elizabeth Woods           HR   2018-02-16   91884   \n",
      "3        E1003       Susan Wagner  Engineering   2016-03-29  103375   \n",
      "4        E1004   Peter Montgomery        Sales   2016-12-12   43199   \n",
      "5        E1005   Theodore Mcgrath    Marketing   2024-10-12   76372   \n",
      "6        E1006  Stephanie Collins    Marketing   2022-03-29   86907   \n",
      "7        E1007   Stephanie Sutton  Engineering   2024-07-04   71444   \n",
      "8        E1008     Brian Hamilton    Marketing   2020-04-09  110070   \n",
      "9        E1009         Susan Levy  Engineering   2024-06-17  113941   \n",
      "10       E1010         Sean Green        Sales   2019-08-04   56801   \n",
      "11       E1011     Kimberly Smith      Finance   2019-03-31  102420   \n",
      "12       E1012   Jennifer Summers        Sales   2022-09-20   92522   \n",
      "13       E1013       April Snyder      Finance   2025-06-12   88024   \n",
      "14       E1014        Dana Nguyen  Engineering   2020-04-07   98334   \n",
      "15       E1015     Cheryl Bradley      Finance   2023-04-01   64143   \n",
      "16       E1016       Walter Pratt           HR   2023-12-19   38163   \n",
      "17       E1017       Bobby Flores        Sales   2021-08-30  101919   \n",
      "18       E1018    Tasha Rodriguez  Engineering   2016-12-25   31840   \n",
      "19       E1019    Michelle Kelley        Sales   2021-02-06   42225   \n",
      "20       E1020   Kimberly Maynard        Sales   2017-07-18   82274   \n",
      "21       E1021     Laurie Wallace      Finance   2023-11-10  117576   \n",
      "22       E1022    Janice Johnston  Engineering   2025-07-27  111954   \n",
      "23       E1023       Collin Lopez           HR   2021-04-15   30149   \n",
      "24       E1024       Mary Alvarez           HR   2018-10-27  110202   \n",
      "\n",
      "   Performance Rating  \n",
      "0                Poor  \n",
      "1             Average  \n",
      "2                Good  \n",
      "3             Average  \n",
      "4           Excellent  \n",
      "5                Good  \n",
      "6                Good  \n",
      "7                Good  \n",
      "8                Good  \n",
      "9                Poor  \n",
      "10          Excellent  \n",
      "11          Excellent  \n",
      "12            Average  \n",
      "13               Poor  \n",
      "14          Excellent  \n",
      "15            Average  \n",
      "16            Average  \n",
      "17          Excellent  \n",
      "18            Average  \n",
      "19               Good  \n",
      "20            Average  \n",
      "21               Poor  \n",
      "22          Excellent  \n",
      "23               Poor  \n",
      "24            Average  \n"
     ]
    },
    {
     "data": {
      "image/png": "[encoded data removed]",
      "text/plain": [
       "<Figure size 640x480 with 1 Axes>"
      ]
     },
     "metadata": {},
     "output_type": "display_data"
    }
   ],
   "source": [
    "import pandas as pd \n",
    "import matplotlib.pyplot as plt \n",
    "\n",
    "data = pd.read_excel(r\"C:\\Users\\WIN10\\Desktop\\DataAnalyics\\employee_data.xlsx\")\n",
    "df = pd.DataFrame(data)\n",
    "\n",
    "plt.hist( df[\"Salary\"] , bins = 10 )\n",
    "print(df)"
   ]
  }
 ],
 "metadata": {
  "kernelspec": {
   "display_name": "Python 3",
   "language": "python",
   "name": "python3"
  },
  "language_info": {
   "codemirror_mode": {
    "name": "ipython",
    "version": 3
   },
   "file_extension": ".py",
   "mimetype": "text/x-python",
   "name": "python",
   "nbconvert_exporter": "python",
   "pygments_lexer": "ipython3",
   "version": "3.13.5"
  }
 },
 "nbformat": 4,
 "nbformat_minor": 5
}
